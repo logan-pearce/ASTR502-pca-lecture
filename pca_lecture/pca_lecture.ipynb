{
 "cells": [
  {
   "cell_type": "markdown",
   "metadata": {},
   "source": [
    "# Astronomical Applications of PCA"
   ]
  },
  {
   "cell_type": "markdown",
   "metadata": {},
   "source": [
    "### SDSS spectra"
   ]
  },
  {
   "cell_type": "markdown",
   "metadata": {},
   "source": []
  },
  {
   "cell_type": "markdown",
   "metadata": {},
   "source": [
    "### Imaging\n",
    "\n",
    "A set of reference images can be used to form a basis set of eigenimages.  Each eigenimage is an orthogonal direction from which the images differ from the the mean image.  Then, a linear combination of these eigenimages can be formed that reconstructs a given target image by projecting the target image onto the basis set.  If a set of M refrence images is used to construct N $\\le$ M eigenimages, then a target image can be reconstructed using appropriately weighted K eigenimages. image1 = (23% of E1) + (2% of E2) + (51% of E3) + ... + (1% En).  Dimensionality reduction is acheived in that K $\\lt$ N. \n",
    "This is how your phone recognizes your face!  The set of eigenimages is produced by performing PCA on a large set of images.\n",
    "\n",
    "Steps for using PCA in imaging:\n",
    "- Prepare a set of reference images to construct the basis set.  Each image should be same size and resolution, and aligned.  Concatenate each reference image into a single vector.  \n",
    "    - Ex: If you have a training set of T = rxmxn images, turn them into T = rxp array where p = mxn.  np.reshape() function works well for this.\n",
    "- Subtract the mean from each reference image\n",
    "- Perform pca on the covariance matix of T to get the eigenvalues and eigenvectors (eigenimages)\n",
    "- Sort eigenvalues in decending order\n",
    "- Determine the number of principle components, k, desired to use in reconstruction\n",
    "- Project the target image onto the basis set\n",
    "\n",
    "> [PCA on astronomical images, including the math: Soummer+ 2012](https://iopscience.iop.org/article/10.1088/2041-8205/755/2/L28/pdf)"
   ]
  },
  {
   "cell_type": "markdown",
   "metadata": {
    "slideshow": {
     "slide_type": "-"
    }
   },
   "source": [
    "#### PCA on imaging is used in PSF subtraction: RDI\n",
    "Reference differential imaging (RDI): Build a set of eigenimages from PSF reference stars, construct a model PSF of your science target, and subtract the star's PSF model from the image to reveal faint planets/disks\n",
    "\n"
   ]
  },
  {
   "cell_type": "code",
   "execution_count": null,
   "metadata": {},
   "outputs": [],
   "source": []
  }
 ],
 "metadata": {
  "celltoolbar": "Slideshow",
  "kernelspec": {
   "display_name": "Python 3",
   "language": "python",
   "name": "python3"
  },
  "language_info": {
   "codemirror_mode": {
    "name": "ipython",
    "version": 3
   },
   "file_extension": ".py",
   "mimetype": "text/x-python",
   "name": "python",
   "nbconvert_exporter": "python",
   "pygments_lexer": "ipython3",
   "version": "3.7.0"
  }
 },
 "nbformat": 4,
 "nbformat_minor": 2
}
